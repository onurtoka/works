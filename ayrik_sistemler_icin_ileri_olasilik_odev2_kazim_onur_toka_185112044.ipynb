{
  "nbformat": 4,
  "nbformat_minor": 0,
  "metadata": {
    "colab": {
      "name": "ayrik_sistemler_icin_ileri_olasilik_odev2_kazim_onur_toka_185112044.ipynb",
      "provenance": [],
      "collapsed_sections": [],
      "authorship_tag": "ABX9TyNtSCaB8NQcKzCOgDCnWSLV",
      "include_colab_link": true
    },
    "kernelspec": {
      "name": "python3",
      "display_name": "Python 3"
    }
  },
  "cells": [
    {
      "cell_type": "markdown",
      "metadata": {
        "id": "view-in-github",
        "colab_type": "text"
      },
      "source": [
        "<a href=\"https://colab.research.google.com/github/onurtoka/works/blob/master/ayrik_sistemler_icin_ileri_olasilik_odev2_kazim_onur_toka_185112044.ipynb\" target=\"_parent\"><img src=\"https://colab.research.google.com/assets/colab-badge.svg\" alt=\"Open In Colab\"/></a>"
      ]
    },
    {
      "cell_type": "markdown",
      "metadata": {
        "id": "Wt9bq8EQUDig",
        "colab_type": "text"
      },
      "source": [
        "**KAZIM ONUR TOKA - 185112044 - Ayrık Sistemler İçin İleri Olasılık - Karşılaşma Olasılığı Ödevi**\n",
        "\n",
        "Soru : Bir futbol takımının geniş kadrosunda bulunan 25 futbolcu arasından 11 futbolcu As takıma seçilecektir. Kesinleşen kadroda A, B, C veya D futbolcularının bulunma olasılığı nedir ?\n",
        "\n",
        "Çözüm:\n",
        "\n",
        "p(toplam futbolcu sayısı) = 25\n",
        "\n",
        "s(ilk onbir) = 11\n",
        "\n",
        "f(olmasını istediğimiz futbolcular) = 4\n",
        "\n",
        "![alt text](https://kombinasyon-permutasyon-hesaplama.hesabet.com/Resimler/Kombinasyon.png)\n",
        "\n",
        "p(E) = |E|(olay uzay)/|S|(örnek uzay)\n",
        "\n",
        "Burada olmasını istediğimiz futbolcuların tüm olasılıkları yerine hiç olmamasını istediğimiz futbolcuların olasılığını hesap etmekteyiz. Çünkü A,B,C veya D futbolcuları ayrı ayrı veya beraber kadroda bulunabilirler, bu durum işlemi uzatmaktadır. Yapılan işlemden sonra çıkan sonucu 1'den çıkardığımızda istenen durum elde edilecektir.\n",
        "\n",
        "1-(C(p-f,s)/C(p,s))\n",
        "\n",
        "1-C(21,11)/C(25,11) : 0.92087"
      ]
    },
    {
      "cell_type": "code",
      "metadata": {
        "id": "aiQq5K4Yh9Nm",
        "colab_type": "code",
        "outputId": "f34cd96d-ad09-446e-fc37-e15b5cbae922",
        "colab": {
          "base_uri": "https://localhost:8080/",
          "height": 34
        }
      },
      "source": [
        "def main():\n",
        "\n",
        "  p_genis_kadro_sayisi=25\n",
        "  \n",
        "  s_ilk_onbir=11\n",
        "\n",
        "  f_olmasi_istenen_futbolcular=4\n",
        "\n",
        "  olasi_tum_ilk_onbirler=kombinasyon(p_genis_kadro_sayisi,s_ilk_onbir)\n",
        "\n",
        "  istedigimiz_futbolcular_disindaki_olasilik_degeri=(kombinasyon(p_genis_kadro_sayisi-f_olmasi_istenen_futbolcular,s_ilk_onbir))/(olasi_tum_ilk_onbirler)\n",
        "\n",
        "  istedigimiz_olayin_gerceklesme_olasiligi=1-istedigimiz_futbolcular_disindaki_olasilik_degeri\n",
        "\n",
        "  return istedigimiz_olayin_gerceklesme_olasiligi\n",
        "\n",
        "def kombinasyon(n, r):\n",
        "    return faktoriyel(n) / (faktoriyel(r) * faktoriyel(n - r))\n",
        "\n",
        "def faktoriyel(n):\n",
        "    if n == 0:\n",
        "        return 1\n",
        "    else:\n",
        "        return n * faktoriyel(n-1)\n",
        "\n",
        "print(\"İlk 11 de olmasını istediğimiz oyunculardan 1'nin veya 1'den fazlasının kadroda bulunma olasılığı : %0.5f\" %main())"
      ],
      "execution_count": 5,
      "outputs": [
        {
          "output_type": "stream",
          "text": [
            "İlk 11 de olmasını istediğimiz oyunculardan 1'nin veya 1'den fazlasının kadroda bulunma olasılığı : 0.92087\n"
          ],
          "name": "stdout"
        }
      ]
    },
    {
      "cell_type": "markdown",
      "metadata": {
        "id": "T3jutBkOccno",
        "colab_type": "text"
      },
      "source": [
        "Recursive faktöriyel fonk. çalışma mantığı;\n",
        "\n",
        "print faktoriyel(4)\n",
        "----------------------------\n",
        "\n",
        "return 4 * faktoriyel(3)\n",
        "    \n",
        "    return 3 * faktoriyel(2)\n",
        "    \n",
        "        return 2 * faktoriyel(1)\n",
        "    \n",
        "            return 1 * faktoriyel(0)\n",
        "\n",
        "Son durumda çıkış koşulu sağlanır. f(0)=1 dir. Ve fonksiyon bulunan f değerlerini işleme sokarak kendini geri çağırır. ve f(4) bulunur.\n",
        "\n",
        "\n",
        "f(4)=4*f(3)\n",
        "\n",
        "f(3)=3*f(2)\n",
        "\n",
        "f(2)=2*f(1)\n",
        "\n",
        "f(1)=1*f(0)\n",
        "\n",
        "\n",
        "f(0)=1\n",
        "\n",
        "f(1)=1\n",
        "\n",
        "f(2)=2\n",
        "\n",
        "f(3)=6\n",
        "\n",
        "f(4)=24"
      ]
    }
  ]
}