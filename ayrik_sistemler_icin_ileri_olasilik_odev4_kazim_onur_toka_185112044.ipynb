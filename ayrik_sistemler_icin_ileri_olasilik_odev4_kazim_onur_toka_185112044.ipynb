{
  "nbformat": 4,
  "nbformat_minor": 0,
  "metadata": {
    "colab": {
      "name": "ayrik_sistemler_icin_ileri_olasilik_odev4_kazim_onur_toka_185112044.ipynb",
      "provenance": [],
      "collapsed_sections": [],
      "authorship_tag": "ABX9TyNmQy5dzH6gM07F64rshRJb",
      "include_colab_link": true
    },
    "kernelspec": {
      "name": "python3",
      "display_name": "Python 3"
    }
  },
  "cells": [
    {
      "cell_type": "markdown",
      "metadata": {
        "id": "view-in-github",
        "colab_type": "text"
      },
      "source": [
        "<a href=\"https://colab.research.google.com/github/onurtoka/works/blob/master/ayrik_sistemler_icin_ileri_olasilik_odev4_kazim_onur_toka_185112044.ipynb\" target=\"_parent\"><img src=\"https://colab.research.google.com/assets/colab-badge.svg\" alt=\"Open In Colab\"/></a>"
      ]
    },
    {
      "cell_type": "markdown",
      "metadata": {
        "id": "IiHBTqXhN8n4",
        "colab_type": "text"
      },
      "source": [
        "KAZIM ONUR TOKA - 185112044 - Ayrık Sistemler İçin İleri Olasılık - Binomial Rastgele Degisken & Poisson Dagılımı\n",
        "\n",
        "**Binomial Rastgele Degisken**\n",
        "\n",
        "Tanım : Bernoulli deneyinin birbirini izleyen n bagımsız denemelerindeki basarı\n",
        "sayısını temsil eden rasgele degiskendir. \n",
        "\n",
        "![alt text](https://i.hizliresim.com/PR7dJo.png)\n",
        "\n",
        "Problem : Belli bir ameliyatın başarılı sonuçlanması olasılığı %80’dir. Ameliyat edilen 10 hastadan,\n",
        "\n",
        "\n",
        "*   6’ sının iyileşmesi olasılığı nedir?\n",
        "*   En az 9’ unun iyileşmesi olasılığı nedir?\n",
        "*   En fazla 7’ sinin iyileşmesi olasılığı nedir?\n",
        "\n",
        "\n",
        "\n",
        "---\n",
        "\n"
      ]
    },
    {
      "cell_type": "code",
      "metadata": {
        "id": "zJ3gBX9EMyLt",
        "colab_type": "code",
        "outputId": "bc9b65f2-3d43-4bd5-a4a5-4ae21ff52a04",
        "colab": {
          "base_uri": "https://localhost:8080/",
          "height": 67
        }
      },
      "source": [
        "import math\n",
        "\n",
        "def kombinasyon(n, r):\n",
        "    return faktoriyel(n) / (faktoriyel(r) * faktoriyel(n - r))\n",
        "\n",
        "def faktoriyel(n):\n",
        "    if n == 0:\n",
        "        return 1\n",
        "    else:\n",
        "        return n * faktoriyel(n-1)\n",
        "\n",
        "def binomial(n,p,k):\n",
        "    return (kombinasyon(n,k))*((p)**k)*((1-p)**(n-k))\n",
        "\n",
        "n=10\n",
        "p=0.8\n",
        "\n",
        "#6’ sının iyileşmesi olasılığı nedir?\n",
        "\n",
        "x=6\n",
        "\n",
        "cozum = binomial(n,p,x)\n",
        "\n",
        "print (\"Ameliyat edilen 10 hastadan 6’sının iyileşmesi olasılığı = \", round(cozum,4))\n",
        "\n",
        "#En az 9’ unun iyileşmesi olasılığı nedir?\n",
        "\n",
        "y=9\n",
        "v=10\n",
        "\n",
        "cozum1 = binomial(n,p,y) + binomial(n,p,v)\n",
        "\n",
        "print (\"En az 9’ unun iyileşmesi olasılığı =\", round(cozum1,4))\n",
        "\n",
        "#En fazla 7’ sinin iyileşmesi olasılığı nedir? (1- p(8)+p(9)+p(10)) \n",
        "#9 ve 10 için olaslığı yukarıda bulmuştuk. 9 ve 10 için cozum1 i kullanacağız\n",
        "\n",
        "z=8\n",
        "\n",
        "cozum2 = 1 - (binomial(n,p,z) + cozum1)\n",
        "\n",
        "print (\"En fazla 7’ sinin iyileşmesi olasılığı =\", round(cozum2,4))"
      ],
      "execution_count": 25,
      "outputs": [
        {
          "output_type": "stream",
          "text": [
            "Ameliyat edilen 10 hastadan 6’sının iyileşmesi olasılığı =  0.0881\n",
            "En az 9’ unun iyileşmesi olasılığı = 0.3758\n",
            "En fazla 7’ sinin iyileşmesi olasılığı = 0.3222\n"
          ],
          "name": "stdout"
        }
      ]
    },
    {
      "cell_type": "markdown",
      "metadata": {
        "id": "_P6xVXIadZP1",
        "colab_type": "text"
      },
      "source": [
        "\n",
        "\n",
        "---\n",
        "\n",
        "**Poisson Dagılımı**\n",
        "\n",
        "Tanım : Belirli bir aralıkta gerçekleşme olasılığının çok küçük olduğu durumlarda kullanılır. Örneğin Ankara’da Beşevler kavşağında bir gün içerisinde meydana gelen trafik kazaları, belli bir yılda meydana gelen doğal afetler, az rastlanan hastalıklar gibi.\n",
        "\n",
        "![alt text](https://i.hizliresim.com/0b2jzs.png)\n",
        "\n",
        "Problem : Bir şehirde ender rastlanan bir hastalıktan, bir hafta içinde ortalama ölen kişi\n",
        "sayısı 4’ dür. Belli bir hafta içinde bu hastalıktan,\n",
        "\n",
        "\n",
        "*   Hiç kimsenin ölmemesi\n",
        "*   En az 2 kişinin ölmesi\n",
        "*   3 kişinin ölmesi\n",
        "\n",
        "olasılıklarını hesaplayınız.\n",
        "\n",
        "---\n",
        "\n"
      ]
    },
    {
      "cell_type": "code",
      "metadata": {
        "id": "F-OOQ001hmRe",
        "colab_type": "code",
        "outputId": "415274c8-c2fd-4fca-960a-74c4ae8dea51",
        "colab": {
          "base_uri": "https://localhost:8080/",
          "height": 67
        }
      },
      "source": [
        "import math\n",
        "\n",
        "def faktoriyel(n):\n",
        "    if n == 0:\n",
        "        return 1\n",
        "    else:\n",
        "        return n * faktoriyel(n-1)\n",
        "\n",
        "def poisson(λ,k):\n",
        "    return ((math.e**(-λ))*(λ**k))/faktoriyel(k)\n",
        "\n",
        "\n",
        "λ = 4\n",
        "\n",
        "#Hiç kimsenin ölmemesi\n",
        "\n",
        "x=0\n",
        "\n",
        "cozum = poisson(λ,x)\n",
        " \n",
        "print (\"Hiç kimsenin ölmemesi = \", round(cozum,4))\n",
        "\n",
        "#En az 2 kişinin ölmesi (1- p(0)+p(1)) p(0) ı yukarda bulmuştuk\n",
        "\n",
        "y=1\n",
        "\n",
        "cozum1 = 1 - (cozum + poisson(λ,y))\n",
        " \n",
        "print (\"En az 2 kişinin ölmesi = \", round(cozum1,4))\n",
        "\n",
        "#3 kişinin ölmesi\n",
        "\n",
        "z=3\n",
        "\n",
        "cozum2 = poisson(λ,z)\n",
        "\n",
        "print (\"3 kişinin ölmesi = \", round(cozum2,4))"
      ],
      "execution_count": 27,
      "outputs": [
        {
          "output_type": "stream",
          "text": [
            "Hiç kimsenin ölmemesi =  0.0183\n",
            "En az 2 kişinin ölmesi =  0.9084\n",
            "3 kişinin ölmesi =  0.1954\n"
          ],
          "name": "stdout"
        }
      ]
    }
  ]
}