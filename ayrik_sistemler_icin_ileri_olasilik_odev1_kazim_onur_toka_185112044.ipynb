{
  "nbformat": 4,
  "nbformat_minor": 0,
  "metadata": {
    "colab": {
      "name": "ayrik_sistemler_icin_ileri_olasilik_odev1_kazim_onur_toka_185112044.ipynb",
      "provenance": [],
      "authorship_tag": "ABX9TyNfpcjAJyz6qpO18cPyTtgj",
      "include_colab_link": true
    },
    "kernelspec": {
      "name": "python3",
      "display_name": "Python 3"
    }
  },
  "cells": [
    {
      "cell_type": "markdown",
      "metadata": {
        "id": "view-in-github",
        "colab_type": "text"
      },
      "source": [
        "<a href=\"https://colab.research.google.com/github/onurtoka/works/blob/master/ayrik_sistemler_icin_ileri_olasilik_odev1_kazim_onur_toka_185112044.ipynb\" target=\"_parent\"><img src=\"https://colab.research.google.com/assets/colab-badge.svg\" alt=\"Open In Colab\"/></a>"
      ]
    },
    {
      "cell_type": "markdown",
      "metadata": {
        "id": "kQo5IctG_gJf",
        "colab_type": "text"
      },
      "source": [
        "**KAZIM ONUR TOKA - 185112044 - Ayrık Sistemler İçin İleri Olasılık - Sayma Dersinin Ödevi**\n",
        "\n",
        "**Soru** : Verilen bir karakter ya da sayı dizisinin bütün alternatif permütasyonlarını bulma.\n",
        "\n",
        "**Giriş** : Fonksiyonun temel fikri, tüm elemanları diziden tek tek çıkarmak ve onları ilk konuma yerleştirmek ve kalan liste için tekrarlamaktır(özyineli fonksiyon).\n",
        "\n",
        "\n",
        "**--KODLAMANIN ÇALIŞMA MANTIĞININ AÇIKLANMASI--**\n",
        "\n",
        "![alt text](https://i.hizliresim.com/iyff9X.jpg)\n",
        "\n",
        "Çıkış koşulumuz ---->if len(dizi) == 0:\n",
        "\n",
        "Başa alınacak karakter dışındaki karakterleri eklenmis değişkeninde tutmak ---> eklenmis = dizi[0:i] + dizi[i+1:]\n",
        "\n",
        "Ana hedef eklenmis değişkenini boş hale getirip ikinci kısımdaki değişkeni yani on_ek 'i verilen karakterin yeni bir permütasyonu ile doldurmaktır. ---> permutasyon_yazdir(eklenmis, **on_ek + dizi[i]**)\n",
        "\n",
        "Rekürsif Fonksiyon ilk kez 'ABC' fonksiyonu ile çağrılır. Buradaki ana motivasyonumuz her seferinde 'A' 'B' 'C' karakterlerinden birini en başa alıp kalan iki karakterin kendi aralarındaki permütasyonlarını yazdırmaktır.(eklenmis = dizi[0:i] + dizi[i+1:] ---> burada yaptığımız işlem başa alınacak karakter dışındaki karakterleri eklenmis değişkeninde tutmak) i=0 olduğunda dizi[i] de artık ilk karakter olan 'A' bulunur. eklenmis değişkeninde ise kalan elemanlar olarak 'BC' bulunur. Fonksiyon kendini tekrar çağırır. i=0 olduğu için dizi kısmında bulunan  'A' nın yanına 'B' karakteri de eklenir ve sonuçta eklenmis = 'C' on_ek='AB' olarak oluşur.  Fonksiyon kendi tekrar çağırır çıkış koşulu gerçekleşmediği için tekrar for döngüsüne gelinir, i=0 olur. Bu sefer kalan tek karakter de 'C', on_ek kısmına eklenir 'ABC' elde edilir. Artık dizi karakterimiz boştur ve çıkış koşulu gerçekleşmiştir. Dizi boş olduğu için on_ek te bulunan 'ABC' print ile ekrana yazdırılır. Geri dönüş değeri kalmadığı için fonksiyon kendini geriye doğru çağırmaya başlar. i değerini arttırabileceği yere kadar fonksiyon kendini çağırır. i=0 eklenmis = BC on_ek= A olduğu noktada artık i değerini 1 arttırabiliriz. i=1 olduğunda eklenmis=BC on_ek = A dır. i=1 olduğu için  on_ek + dizi[i] kısmında on_ek = A dizi[1] = C olduğu için eklenmis = B on_ek = AC olur. fonksiyon kendini tekrar çağırır, çıkış koşulu gerçekleşmediği için for döngüsüne tekrar geri gelinir. for döngüsüne yeniden gelindiği için i=0 olarak devam edilir. eklenmis=B on_ek=AC , burada dizi[0] değeri B olur. Ve bu değer on_ek ' e eklenir. Sonuçta on_ek = ACB olmuş olur. Fonksiyon kendini tekrar çağırır ve artık çıkış değeri sağlanmıştır. print ile ACB ekrana yazdırılır. i=0 eklenmis = \"\" on_ek = 'ACB' olduğunda herhangi bir return değeri kalmamıştır. Fonksiyon önceki halini çağırır. i=0 eklenmis = B on_ek='AC' burada da bir return değeri kalmamıştır.  i=1 eklenmis='BC' on_ek = 'A' burada da herhangi bir return değeri kalmadığı için fonksiyon ilk haline geri döner. Yani i=0 eklenmis = 'ABC', artık i değerini 1 arttırabilirim. i=1 durumunda artık on_ek = 'B' olmuş olur. eklenmis =AC olarak oluşur. Fonksiyon kendini tekrar çağırır. Çıkış değeri karşılanmaz. Tekrar for döngüsüne gelinir. i=0 olmuş olur. eklemis = 'AC' idi i=0 olduğu için 'A' alınır ve on_ek ' eklenir. on_ek = 'BA' dır. Fonksiyon kendini tekrar çağırır. Ama çıkış koşulu karşılanmaz. Tekrar for döngüsüne gelinir. i=0 eklenmis='C' on_ek='BA' 'C' karakteri de on_ek 'e eklenir. Ve on_ek='BAC' eklenmis = '' fonksiyon kendini çağırır ve çıkış koşulu sağlanmış olur. 'BAC' print ile ekrana yazdırılır. Herhangi bir return değeri kalmadığı için fonksiyon kendini geri çağırmaya başlar, i ' yi 1 arttırabileceği yere kadar. Bu nokta da eklenmis='AC' on_ek='B' olduğu durumudur. i=1 olur. eklenmis='AC' i=1 olduğu için 'C' karakteri alınır ve on_ek='B' ye eklenir. Fonksiyon kendini çağırır, çıkış koşulu sağlanmaz ve tekrar for döngüsüne gelinir. Artık i=0 eklenmis ='A' on_ek='BC' dir. Fonksiyon tekrar çağırılır. Çıkış koşulu sağlanmaz ve for döngüsüne tekrar girilir. i=0 eklenmis = 'A' on_ek='BC' dir. 'A'(dizi[0]) karakteri de on_ek='BC' ye eklenir ve on_ek='BCA' oluşturulmuş olur. Artık çıkış koşulu sağlanır (len(dizi)==0) print ile on_ek='BCA' ekrana yazdırılır. Herhangi bir return değeri kalmadığı için rekürsif fonk. kendini çağırmaya başlar. Son durumda i=1 eklenmis = 'ABC' noktasına kadar fonk. çağrılır. Artık i değerini 1 arttırabiliriz. i=2 eklenmis = 'ABC' durumudayız. Burada artık on_ek= 'C' olmuş olur. Yani 'C' karakteri en başa geçmiş durumdadır. eklenmis='AB' dir. Fonksiyon kendini tekrar çağırır. Çıkış koşulu gerçekleşmez ve for döngüsüne gelinir. For döngüsüne yeni gelindiği için i=0 olur. Bu noktada eklenmis = 'AB' on_ek='C' dir. dizi[0]= 'A' alınır ve on_ek='C' ye eklenir. Son durumda eklenmis ='B' on_ek='CA' olmuş olur. Fonk. kendini tekrar geri çağırır, çıkış koşulu sağlanmaz ve for döngüsüne gidilir. i=0 dır. Kalan son karakter olan 'B' de on_ek='CA' ya eklenir. Ve son durumda eklenmis = '' boş, on_ek='CAB' olur. Fonk. tekrar çağrılır ve çıkış koşulu oluştuğu için on_ek='CAB' print ile ekrana yazdırılır. Return değeri kalmadığı için fonk. kendini geriye doğru çağırmaya başlar. i yi  arttırabileceği noktaya kadar. O noktada eklenmis='AB' on_ek='C' olduğu noktadır. i=1 eklenmis = 'AB' ve on_ek='C' dir. dizi[1]=B alınır ve on_ek 'e eklenir. eklenmis ='A' on_ek=CB dir. Fonk. tekrar çağırılır ve çıkış koşulu gerçekleşmez. Tekrar for döngüsüne gelinir ve i=0 dır. Kalan son karakter olan 'A' on_ek ' e eklenir ve eklenmis değişkeni artık boş kalır. Son durumda eklenmis = '' ve on_ek = 'CBA' dır. Fonk. kendini tekrar çağırır, çıkış koşulu gerçekleşmiş ve print ile 'CBA' ekrana yazdırılmıştır. Artık herhangi bir return değeri kalmadığı için fonksiyon sonlanır. "
      ]
    },
    {
      "cell_type": "code",
      "metadata": {
        "id": "J2DOwfuxWyHl",
        "colab_type": "code",
        "outputId": "0acaa0f6-458b-4bc4-92a3-fa34059b1f04",
        "colab": {
          "base_uri": "https://localhost:8080/",
          "height": 118
        }
      },
      "source": [
        "def permutasyon_yazdir(dizi, on_ek = ''):\n",
        "    if len(dizi) == 0:\n",
        "        print(on_ek)\n",
        "    else:\n",
        "        for i in range(len(dizi)):\n",
        "            eklenmis = dizi[0:i] + dizi[i+1:]\n",
        "            permutasyon_yazdir(eklenmis, on_ek + dizi[i])\n",
        "permutasyon_yazdir('ABC')"
      ],
      "execution_count": 3,
      "outputs": [
        {
          "output_type": "stream",
          "text": [
            "ABC\n",
            "ACB\n",
            "BAC\n",
            "BCA\n",
            "CAB\n",
            "CBA\n"
          ],
          "name": "stdout"
        }
      ]
    },
    {
      "cell_type": "markdown",
      "metadata": {
        "id": "rZhQUDpPeJnE",
        "colab_type": "text"
      },
      "source": [
        "1. Satır : Belirli bir listenin permütasyonlarını yazdırmak için oluşturduğumuz Python fonksiyonu\n",
        "2. Satır : Eğer 'dizi' boşsa(çıkış koşulumuz -> **if len(dizi) == 0:)**,\n",
        "3. Satır : Hiçbir permütasyon yok demektir. Bu kısım 7. satırdaki işlemlerin ardından okunmalıdır. ----> 7. satırdaki işlemlerden sonra dizi'ye gelen eklenmis değişkeni artık boş olduğunda on_ek değişkeninde dizinin bir permütasyonu bulunur ve bu print ile ekrana yazdırılır.\n",
        "4. Satır : Eğer 'dizi' boş değilse;\n",
        "5. Satır : for döngümüz devreye girer.\n",
        "6. Satır : eklenmis = dizi[0:i] + dizi[i+1:] ---> burada yaptığımız işlem başa alınacak karakter dışındaki karakterleri eklenmis değişkeninde tutmak\n",
        "7. Satır : İlk işlemlerin sonunda ilk verdiğimiz karakter olan 'ABC' döner daha sonra ilk karakter sabit kalır ve kalan 2 karakterin kendi aralarındaki permütasyonları yazılır. Daha sonra 2. karakter en başa geçer ve kalan karakterlerin kendi aralarındaki permütasyonları yazılır. Bu işlem bütün karakterler için devam eder. eklenmis değişkeni artı boş olduğunda on_ek değişkeninde dizinin yeni oluşan bir permütasyonu bulunur.\n",
        "8. Satır : Tüm permütasyonları bulunacak olan karakter dizisi verilir.\n",
        "\n",
        "---------------------------------------------------------------------------\n",
        "'ABC' için örnek çıktı :\n",
        "\n",
        "ABC\n",
        "ACB\n",
        "BAC\n",
        "BCA\n",
        "CAB\n",
        "CBA"
      ]
    }
  ]
}