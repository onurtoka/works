{
  "nbformat": 4,
  "nbformat_minor": 0,
  "metadata": {
    "colab": {
      "name": "ayrik_sistemler_icin_ileri_olasilik_odev1_kazim_onur_toka_185112044.ipynb",
      "provenance": [],
      "authorship_tag": "ABX9TyNlFOfRO0h3bhg7TodbrtU/",
      "include_colab_link": true
    },
    "kernelspec": {
      "name": "python3",
      "display_name": "Python 3"
    }
  },
  "cells": [
    {
      "cell_type": "markdown",
      "metadata": {
        "id": "view-in-github",
        "colab_type": "text"
      },
      "source": [
        "<a href=\"https://colab.research.google.com/github/onurtoka/works/blob/master/ayrik_sistemler_icin_ileri_olasilik_odev1_kazim_onur_toka_185112044.ipynb\" target=\"_parent\"><img src=\"https://colab.research.google.com/assets/colab-badge.svg\" alt=\"Open In Colab\"/></a>"
      ]
    },
    {
      "cell_type": "code",
      "metadata": {
        "id": "J2DOwfuxWyHl",
        "colab_type": "code",
        "colab": {}
      },
      "source": [
        "def permutasyon_yazdir(dizi, on_ek = ''):\n",
        "    if len(dizi) == 0:\n",
        "        print(on_ek)\n",
        "    else:\n",
        "        for i in range(len(dizi)):\n",
        "            eklenmis = dizi[0:i] + dizi[i+1:]\n",
        "            permutasyon_yazdir(eklenmis, on_ek + dizi[i])\n",
        "permutasyon_yazdir('ONUR')"
      ],
      "execution_count": 0,
      "outputs": []
    },
    {
      "cell_type": "markdown",
      "metadata": {
        "id": "rZhQUDpPeJnE",
        "colab_type": "text"
      },
      "source": [
        "**KAZIM ONUR TOKA - 185112044 - Ayrık Sistemler İçin İleri Olasılık - Sayma Dersinin Ödevi**\n",
        "\n",
        "**Soru** : Verilen bir karakter ya da sayı dizisinin bütün alternatif permütasyonlarını bulma.\n",
        "\n",
        "**Giriş** : Fonksiyonun temel fikri, tüm elemanları diziden tek tek çıkarmak ve onları ilk konuma yerleştirmek ve kalan liste için tekrarlamaktır(özyineli fonksiyon).\n",
        "\n",
        "1. Satır : Belirli bir listenin permütasyonlarını yazdırmak için oluşturduğumuz Python fonksiyonu\n",
        "2. Satır : Eğer 'dizi' boşsa,\n",
        "3. Satır : Hiçbir permütasyon yok demektir. Bu kısım 7. satırdaki işlemlerin ardından okunmalıdır. ----> 7. satırdaki işlemlerden sonra dizi'ye gelen eklenmis değişkeni artık boş olduğunda on_ek değişkeninde dizinin bir permütasyonu bulunur ve bu print ile ekrana yazdırılır.\n",
        "4. Satır : Eğer 'dizi' boş değilse;\n",
        "5. Satır : for döngümüz devreye girer.\n",
        "6. Satır : Bu satırda dizinin ilk karakteri çıkarılır.\n",
        "7. Satır : İlk işlemlerin sonunda ilk verdiğimiz karakter olan 'ONUR' döner daha sonra ilk karakter sabit kalır ve kalan 3 karakterin kendi aralarındaki permütasyonları yazılır. Daha sonra 2. karakter en başa geçer ve kalan karakterlerin kendi aralarındaki permütasyonları yazılır. Bu işlem bütün karakterler için devam eder. eklenmis değişkeni artı boş olduğunda on_ek değişkeninde dizinin yeni oluşan bir permütasyonu bulunur.\n",
        "8. Satır : Tüm permütasyonları bulunacak olan karakter dizisi verilir.\n",
        "\n",
        "---------------------------------------------------------------------------\n",
        "'ONUR' için örnek çıktı :\n",
        "\n",
        "ONUR\n",
        "ONRU\n",
        "OUNR\n",
        "OURN\n",
        "ORNU\n",
        "ORUN\n",
        "NOUR\n",
        "NORU\n",
        "NUOR\n",
        "NURO\n",
        "NROU\n",
        "NRUO\n",
        "UONR\n",
        "UORN\n",
        "UNOR\n",
        "UNRO\n",
        "URON\n",
        "URNO\n",
        "RONU\n",
        "ROUN\n",
        "RNOU\n",
        "RNUO\n",
        "RUON\n",
        "RUNO\n"
      ]
    }
  ]
}