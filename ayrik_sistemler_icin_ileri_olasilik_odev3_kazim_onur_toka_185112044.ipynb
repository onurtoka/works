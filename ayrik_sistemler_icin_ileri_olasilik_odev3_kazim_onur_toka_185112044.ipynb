{
  "nbformat": 4,
  "nbformat_minor": 0,
  "metadata": {
    "colab": {
      "name": "ayrik_sistemler_icin_ileri_olasilik_odev3_kazim_onur_toka_185112044.ipynb",
      "provenance": [],
      "collapsed_sections": [],
      "authorship_tag": "ABX9TyNWtRRJtI7eQJjF3+Ga4Xxw",
      "include_colab_link": true
    },
    "kernelspec": {
      "name": "python3",
      "display_name": "Python 3"
    }
  },
  "cells": [
    {
      "cell_type": "markdown",
      "metadata": {
        "id": "view-in-github",
        "colab_type": "text"
      },
      "source": [
        "<a href=\"https://colab.research.google.com/github/onurtoka/works/blob/master/ayrik_sistemler_icin_ileri_olasilik_odev3_kazim_onur_toka_185112044.ipynb\" target=\"_parent\"><img src=\"https://colab.research.google.com/assets/colab-badge.svg\" alt=\"Open In Colab\"/></a>"
      ]
    },
    {
      "cell_type": "markdown",
      "metadata": {
        "id": "2tp_qz27jlmK",
        "colab_type": "text"
      },
      "source": [
        "**KAZIM ONUR TOKA - 185112044 - Ayrık Sistemler İçin İleri Olasılık - Koşullu Olasılık & Bayes Teoremi**\n",
        "\n",
        "**Problem :** Covid-19 salgını nedeniyle New York eyaletinde vefat eden kişi sayıları yaş grubu ve vefat eden kişinin daha önceden gelen bir kronik rahatsızlığı olup olmadığı ile ilgili veriler aşağıda sunulmuştur. Aşağıdaki veriler ışığında yeni vefat eden bir kişinin daha önceden gelen bir kronik rahatsızlığı olduğu bilindiğine göre bu kişinin 45-64 yaş arasında olma olasılığı nedir ?\n",
        "\n",
        "![alt text](https://i.hizliresim.com/OIfJ73.png)\n",
        "\n",
        "Kaynak : https://www1.nyc.gov/assets/doh/downloads/pdf/imm/covid-19-daily-data-summary-deaths-04152020-1.pdf\n",
        "\n",
        "\n",
        "**Çözüm :**\n",
        "\n",
        "**Bayes teoremi**, olasılık kuramı içinde incelenen önemli bir konudur. Bu teorem bir rassal değişken için olasılık dağılımı içinde koşullu olasılıklar ile marjinal olasılıklar arasındaki ilişkiyi gösterir. \n",
        "\n",
        "![alt text](https://i.hizliresim.com/qIt9DR.png)\n",
        "\n",
        "---\n",
        "\n"
      ]
    },
    {
      "cell_type": "code",
      "metadata": {
        "id": "-Jb6VrlJfYRl",
        "colab_type": "code",
        "outputId": "210400af-1aed-4a1e-ca8a-061414b51244",
        "colab": {
          "base_uri": "https://localhost:8080/",
          "height": 50
        }
      },
      "source": [
        "#vefatların yaşlara göre payı\n",
        "\n",
        "yas_0_17 = 3/6839\n",
        "\n",
        "yas_18_44 = 309/6839\n",
        "\n",
        "yas_45_64 = 1581/6839\n",
        "\n",
        "yas_65_74 = 1683/6839\n",
        "\n",
        "yas_75_artı = 3263/6839\n",
        "\n",
        "#vefatlar içerisinde yaşlara göre daha önceden gelen kronik hastalıkların payı\n",
        "\n",
        "yas_0_17_kronik_oran = 3/3\n",
        "\n",
        "yas_18_44_kronik_oran  = 244/309\n",
        "\n",
        "yas_45_64_kronik_oran  = 1343/1581\n",
        "\n",
        "yas_65_74_kronik_oran  = 1272/1683\n",
        "\n",
        "yas_75_artı_kronik_oran  = 2289/3263\n",
        "\n",
        "cozum = (yas_45_64 * yas_45_64_kronik_oran) / ((yas_0_17 * yas_0_17_kronik_oran) + (yas_18_44 * yas_18_44_kronik_oran) + (yas_45_64 * yas_45_64_kronik_oran) + (yas_65_74 * yas_65_74_kronik_oran) + (yas_75_artı * yas_75_artı_kronik_oran) ) \n",
        "print (\"Yeni vefat eden bir hastanın 45-64 yaş aralığında olma olasılığı =\", round(cozum,2))\n",
        "print (\"%\",round(cozum*100,2))"
      ],
      "execution_count": 6,
      "outputs": [
        {
          "output_type": "stream",
          "text": [
            "Yeni vefat eden bir hastanın 45-64 yaş aralığında olma olasılığı = 0.26\n",
            "% 26.07\n"
          ],
          "name": "stdout"
        }
      ]
    }
  ]
}